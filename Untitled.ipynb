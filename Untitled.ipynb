{
 "cells": [
  {
   "cell_type": "code",
   "execution_count": 3,
   "id": "e4a12641",
   "metadata": {},
   "outputs": [
    {
     "ename": "ImportError",
     "evalue": "cannot import name 'docstring' from 'matplotlib' (/home/pc/.local/lib/python3.10/site-packages/matplotlib/__init__.py)",
     "output_type": "error",
     "traceback": [
      "\u001b[0;31m---------------------------------------------------------------------------\u001b[0m",
      "\u001b[0;31mImportError\u001b[0m                               Traceback (most recent call last)",
      "\u001b[0;32m/tmp/ipykernel_114272/1126144237.py\u001b[0m in \u001b[0;36m<module>\u001b[0;34m\u001b[0m\n\u001b[1;32m      1\u001b[0m \u001b[0;32mimport\u001b[0m \u001b[0mpandas\u001b[0m \u001b[0;32mas\u001b[0m \u001b[0mpd\u001b[0m\u001b[0;34m\u001b[0m\u001b[0;34m\u001b[0m\u001b[0m\n\u001b[1;32m      2\u001b[0m \u001b[0;32mimport\u001b[0m \u001b[0mnumpy\u001b[0m \u001b[0;32mas\u001b[0m \u001b[0mnp\u001b[0m\u001b[0;34m\u001b[0m\u001b[0;34m\u001b[0m\u001b[0m\n\u001b[0;32m----> 3\u001b[0;31m \u001b[0;32mimport\u001b[0m \u001b[0mmatplotlib\u001b[0m\u001b[0;34m.\u001b[0m\u001b[0mpyplot\u001b[0m \u001b[0;32mas\u001b[0m \u001b[0mplt\u001b[0m\u001b[0;34m\u001b[0m\u001b[0;34m\u001b[0m\u001b[0m\n\u001b[0m\u001b[1;32m      4\u001b[0m \u001b[0;34m\u001b[0m\u001b[0m\n\u001b[1;32m      5\u001b[0m \u001b[0mALGS\u001b[0m \u001b[0;34m=\u001b[0m \u001b[0;34m[\u001b[0m\u001b[0;34m\"1-Evol-RS\"\u001b[0m\u001b[0;34m,\u001b[0m \u001b[0;34m\"1-Coev-RS\"\u001b[0m\u001b[0;34m,\u001b[0m \u001b[0;34m\"2-Coev-RS\"\u001b[0m\u001b[0;34m,\u001b[0m \u001b[0;34m\"1-Coev\"\u001b[0m\u001b[0;34m,\u001b[0m \u001b[0;34m\"2-Coev\"\u001b[0m\u001b[0;34m]\u001b[0m\u001b[0;34m\u001b[0m\u001b[0;34m\u001b[0m\u001b[0m\n",
      "\u001b[0;32m~/.local/lib/python3.10/site-packages/matplotlib/pyplot.py\u001b[0m in \u001b[0;36m<module>\u001b[0;34m\u001b[0m\n\u001b[1;32m     64\u001b[0m from matplotlib.backend_bases import (\n\u001b[1;32m     65\u001b[0m     FigureCanvasBase, FigureManagerBase, MouseButton)\n\u001b[0;32m---> 66\u001b[0;31m \u001b[0;32mfrom\u001b[0m \u001b[0mmatplotlib\u001b[0m\u001b[0;34m.\u001b[0m\u001b[0mfigure\u001b[0m \u001b[0;32mimport\u001b[0m \u001b[0mFigure\u001b[0m\u001b[0;34m,\u001b[0m \u001b[0mFigureBase\u001b[0m\u001b[0;34m,\u001b[0m \u001b[0mfigaspect\u001b[0m\u001b[0;34m\u001b[0m\u001b[0;34m\u001b[0m\u001b[0m\n\u001b[0m\u001b[1;32m     67\u001b[0m \u001b[0;32mfrom\u001b[0m \u001b[0mmatplotlib\u001b[0m\u001b[0;34m.\u001b[0m\u001b[0mgridspec\u001b[0m \u001b[0;32mimport\u001b[0m \u001b[0mGridSpec\u001b[0m\u001b[0;34m,\u001b[0m \u001b[0mSubplotSpec\u001b[0m\u001b[0;34m\u001b[0m\u001b[0;34m\u001b[0m\u001b[0m\n\u001b[1;32m     68\u001b[0m \u001b[0;32mfrom\u001b[0m \u001b[0mmatplotlib\u001b[0m \u001b[0;32mimport\u001b[0m \u001b[0mrcsetup\u001b[0m\u001b[0;34m,\u001b[0m \u001b[0mrcParamsDefault\u001b[0m\u001b[0;34m,\u001b[0m \u001b[0mrcParamsOrig\u001b[0m\u001b[0;34m\u001b[0m\u001b[0;34m\u001b[0m\u001b[0m\n",
      "\u001b[0;32m~/.local/lib/python3.10/site-packages/matplotlib/figure.py\u001b[0m in \u001b[0;36m<module>\u001b[0;34m\u001b[0m\n\u001b[1;32m     41\u001b[0m \u001b[0;34m\u001b[0m\u001b[0m\n\u001b[1;32m     42\u001b[0m \u001b[0;32mimport\u001b[0m \u001b[0mmatplotlib\u001b[0m \u001b[0;32mas\u001b[0m \u001b[0mmpl\u001b[0m\u001b[0;34m\u001b[0m\u001b[0;34m\u001b[0m\u001b[0m\n\u001b[0;32m---> 43\u001b[0;31m \u001b[0;32mfrom\u001b[0m \u001b[0mmatplotlib\u001b[0m \u001b[0;32mimport\u001b[0m \u001b[0m_blocking_input\u001b[0m\u001b[0;34m,\u001b[0m \u001b[0mbackend_bases\u001b[0m\u001b[0;34m,\u001b[0m \u001b[0m_docstring\u001b[0m\u001b[0;34m,\u001b[0m \u001b[0mprojections\u001b[0m\u001b[0;34m\u001b[0m\u001b[0;34m\u001b[0m\u001b[0m\n\u001b[0m\u001b[1;32m     44\u001b[0m from matplotlib.artist import (\n\u001b[1;32m     45\u001b[0m     Artist, allow_rasterization, _finalize_rasterization)\n",
      "\u001b[0;32m~/.local/lib/python3.10/site-packages/matplotlib/projections/__init__.py\u001b[0m in \u001b[0;36m<module>\u001b[0;34m\u001b[0m\n\u001b[1;32m     56\u001b[0m \u001b[0;32mfrom\u001b[0m \u001b[0;34m.\u001b[0m\u001b[0mgeo\u001b[0m \u001b[0;32mimport\u001b[0m \u001b[0mAitoffAxes\u001b[0m\u001b[0;34m,\u001b[0m \u001b[0mHammerAxes\u001b[0m\u001b[0;34m,\u001b[0m \u001b[0mLambertAxes\u001b[0m\u001b[0;34m,\u001b[0m \u001b[0mMollweideAxes\u001b[0m\u001b[0;34m\u001b[0m\u001b[0;34m\u001b[0m\u001b[0m\n\u001b[1;32m     57\u001b[0m \u001b[0;32mfrom\u001b[0m \u001b[0;34m.\u001b[0m\u001b[0mpolar\u001b[0m \u001b[0;32mimport\u001b[0m \u001b[0mPolarAxes\u001b[0m\u001b[0;34m\u001b[0m\u001b[0;34m\u001b[0m\u001b[0m\n\u001b[0;32m---> 58\u001b[0;31m \u001b[0;32mfrom\u001b[0m \u001b[0mmpl_toolkits\u001b[0m\u001b[0;34m.\u001b[0m\u001b[0mmplot3d\u001b[0m \u001b[0;32mimport\u001b[0m \u001b[0mAxes3D\u001b[0m\u001b[0;34m\u001b[0m\u001b[0;34m\u001b[0m\u001b[0m\n\u001b[0m\u001b[1;32m     59\u001b[0m \u001b[0;34m\u001b[0m\u001b[0m\n\u001b[1;32m     60\u001b[0m \u001b[0;34m\u001b[0m\u001b[0m\n",
      "\u001b[0;32m/usr/lib/python3/dist-packages/mpl_toolkits/mplot3d/__init__.py\u001b[0m in \u001b[0;36m<module>\u001b[0;34m\u001b[0m\n\u001b[0;32m----> 1\u001b[0;31m \u001b[0;32mfrom\u001b[0m \u001b[0;34m.\u001b[0m\u001b[0maxes3d\u001b[0m \u001b[0;32mimport\u001b[0m \u001b[0mAxes3D\u001b[0m\u001b[0;34m\u001b[0m\u001b[0;34m\u001b[0m\u001b[0m\n\u001b[0m",
      "\u001b[0;32m/usr/lib/python3/dist-packages/mpl_toolkits/mplot3d/axes3d.py\u001b[0m in \u001b[0;36m<module>\u001b[0;34m\u001b[0m\n\u001b[1;32m     21\u001b[0m \u001b[0;32mimport\u001b[0m \u001b[0mnumpy\u001b[0m \u001b[0;32mas\u001b[0m \u001b[0mnp\u001b[0m\u001b[0;34m\u001b[0m\u001b[0;34m\u001b[0m\u001b[0m\n\u001b[1;32m     22\u001b[0m \u001b[0;34m\u001b[0m\u001b[0m\n\u001b[0;32m---> 23\u001b[0;31m \u001b[0;32mfrom\u001b[0m \u001b[0mmatplotlib\u001b[0m \u001b[0;32mimport\u001b[0m \u001b[0m_api\u001b[0m\u001b[0;34m,\u001b[0m \u001b[0mcbook\u001b[0m\u001b[0;34m,\u001b[0m \u001b[0mdocstring\u001b[0m\u001b[0;34m,\u001b[0m \u001b[0m_preprocess_data\u001b[0m\u001b[0;34m\u001b[0m\u001b[0;34m\u001b[0m\u001b[0m\n\u001b[0m\u001b[1;32m     24\u001b[0m \u001b[0;32mimport\u001b[0m \u001b[0mmatplotlib\u001b[0m\u001b[0;34m.\u001b[0m\u001b[0martist\u001b[0m \u001b[0;32mas\u001b[0m \u001b[0mmartist\u001b[0m\u001b[0;34m\u001b[0m\u001b[0;34m\u001b[0m\u001b[0m\n\u001b[1;32m     25\u001b[0m \u001b[0;32mimport\u001b[0m \u001b[0mmatplotlib\u001b[0m\u001b[0;34m.\u001b[0m\u001b[0maxes\u001b[0m \u001b[0;32mas\u001b[0m \u001b[0mmaxes\u001b[0m\u001b[0;34m\u001b[0m\u001b[0;34m\u001b[0m\u001b[0m\n",
      "\u001b[0;31mImportError\u001b[0m: cannot import name 'docstring' from 'matplotlib' (/home/pc/.local/lib/python3.10/site-packages/matplotlib/__init__.py)"
     ]
    }
   ],
   "source": [
    "import pandas as pd\n",
    "import numpy as np\n",
    "import matplotlib.pyplot as plt\n",
    "\n",
    "ALGS = [\"1-Evol-RS\", \"1-Coev-RS\", \"2-Coev-RS\", \"1-Coev\", \"2-Coev\"]\n",
    "FILES = [\"1ers.csv\", \"1crs.csv\", \"1c.csv\", \"2crs.csv\", \"2c.csv\"]\n",
    "FILES = [f\"dane/{file}\" for file in FILES]\n",
    "MARKS = [\"o\", \"s\", \"v\", \"^\", \"D\"]\n",
    "MARK_C = 0\n",
    "\n",
    "dataframes = [pd.read_csv(file) for file in FILES]\n",
    "\n",
    "fig, ax = plt.subplots(1, 2)\n",
    "\n",
    "# First plot\n",
    "for df in dataframes:\n",
    "    ax[0].plot(\n",
    "        df[\"effort\"].to_numpy() / 1000,\n",
    "        df.iloc[:, 2:].mean(axis=1) * 100,\n",
    "        marker=MARKS[MARK_C],\n",
    "        markevery=25,\n",
    "        markeredgecolor=\"black\",\n",
    "    )\n",
    "    MARK_C += 1\n",
    "ax[0].set_xlabel(r\"Rozegranych gier ($\\times 1000$)\")\n",
    "ax[0].set_ylabel(r\"Odsetek wygranych gier [$\\%$]\")\n",
    "ax[0].legend(ALGS)\n",
    "ax[0].grid(True, linestyle=\"--\", color=\"grey\", linewidth=0.5)\n",
    "ax2 = ax[0].twiny()\n",
    "ax2.set_xticks(np.linspace(0, dataframes[0][\"generation\"].max() + 1, num=6))\n",
    "ax2.set_xlabel(\"Pokolenie\")\n",
    "\n",
    "\n",
    "# Second plot\n",
    "ax[1].boxplot(\n",
    "    [df.iloc[-1, 2:] * 100 for df in dataframes],\n",
    "    notch=True,\n",
    "    boxprops=dict(color=\"darkblue\"),\n",
    "    medianprops=dict(color=\"red\"),\n",
    "    showmeans=True,\n",
    "    meanprops=dict(marker=\"o\", markeredgecolor=\"black\", markerfacecolor=\"darkblue\"),\n",
    "    whiskerprops=dict(linestyle=\"--\", color=\"darkblue\"),\n",
    "    flierprops=dict(marker=\"+\", color=\"blue\", markeredgecolor=\"blue\"),\n",
    ")\n",
    "ax[1].grid(True, linestyle=\"--\", color=\"grey\", linewidth=0.5)\n",
    "ax[1].yaxis.set_label_position(\"right\")\n",
    "ax[1].yaxis.tick_right()\n",
    "ax[1].set_xticks(ticks=list(range(1, len(ALGS) + 1)), labels=ALGS)\n",
    "\n",
    "plt.show()\n"
   ]
  },
  {
   "cell_type": "code",
   "execution_count": 2,
   "id": "8dff81e5",
   "metadata": {},
   "outputs": [
    {
     "name": "stdout",
     "output_type": "stream",
     "text": [
      "/usr/bin/python3: No module named pip\n",
      "Note: you may need to restart the kernel to use updated packages.\n"
     ]
    }
   ],
   "source": []
  }
 ],
 "metadata": {
  "kernelspec": {
   "display_name": "Python 3 (ipykernel)",
   "language": "python",
   "name": "python3"
  },
  "language_info": {
   "codemirror_mode": {
    "name": "ipython",
    "version": 3
   },
   "file_extension": ".py",
   "mimetype": "text/x-python",
   "name": "python",
   "nbconvert_exporter": "python",
   "pygments_lexer": "ipython3",
   "version": "3.10.12"
  }
 },
 "nbformat": 4,
 "nbformat_minor": 5
}
